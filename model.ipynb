{
  "cells": [
    {
      "cell_type": "code",
      "execution_count": 23,
      "metadata": {},
      "outputs": [
        {
          "name": "stdout",
          "output_type": "stream",
          "text": [
            "Requirement already satisfied: roboflow in ./training/lib/python3.9/site-packages (1.1.17)\n",
            "Requirement already satisfied: certifi==2023.7.22 in ./training/lib/python3.9/site-packages (from roboflow) (2023.7.22)\n",
            "Requirement already satisfied: chardet==4.0.0 in ./training/lib/python3.9/site-packages (from roboflow) (4.0.0)\n",
            "Requirement already satisfied: cycler==0.10.0 in ./training/lib/python3.9/site-packages (from roboflow) (0.10.0)\n",
            "Requirement already satisfied: idna==2.10 in ./training/lib/python3.9/site-packages (from roboflow) (2.10)\n",
            "Requirement already satisfied: kiwisolver>=1.3.1 in ./training/lib/python3.9/site-packages (from roboflow) (1.4.5)\n",
            "Requirement already satisfied: matplotlib in ./training/lib/python3.9/site-packages (from roboflow) (3.8.2)\n",
            "Requirement already satisfied: numpy>=1.18.5 in ./training/lib/python3.9/site-packages (from roboflow) (1.26.3)\n",
            "Requirement already satisfied: opencv-python-headless==4.8.0.74 in ./training/lib/python3.9/site-packages (from roboflow) (4.8.0.74)\n",
            "Requirement already satisfied: Pillow>=7.1.2 in ./training/lib/python3.9/site-packages (from roboflow) (10.2.0)\n",
            "Requirement already satisfied: python-dateutil in ./training/lib/python3.9/site-packages (from roboflow) (2.8.2)\n",
            "Requirement already satisfied: python-dotenv in ./training/lib/python3.9/site-packages (from roboflow) (1.0.1)\n",
            "Requirement already satisfied: requests in ./training/lib/python3.9/site-packages (from roboflow) (2.31.0)\n",
            "Requirement already satisfied: six in ./training/lib/python3.9/site-packages (from roboflow) (1.16.0)\n",
            "Requirement already satisfied: supervision in ./training/lib/python3.9/site-packages (from roboflow) (0.18.0)\n",
            "Requirement already satisfied: urllib3>=1.26.6 in ./training/lib/python3.9/site-packages (from roboflow) (2.1.0)\n",
            "Requirement already satisfied: tqdm>=4.41.0 in ./training/lib/python3.9/site-packages (from roboflow) (4.66.1)\n",
            "Requirement already satisfied: PyYAML>=5.3.1 in ./training/lib/python3.9/site-packages (from roboflow) (6.0.1)\n",
            "Requirement already satisfied: requests-toolbelt in ./training/lib/python3.9/site-packages (from roboflow) (1.0.0)\n",
            "Requirement already satisfied: python-magic in ./training/lib/python3.9/site-packages (from roboflow) (0.4.27)\n",
            "Requirement already satisfied: contourpy>=1.0.1 in ./training/lib/python3.9/site-packages (from matplotlib->roboflow) (1.2.0)\n",
            "Requirement already satisfied: fonttools>=4.22.0 in ./training/lib/python3.9/site-packages (from matplotlib->roboflow) (4.47.2)\n",
            "Requirement already satisfied: packaging>=20.0 in ./training/lib/python3.9/site-packages (from matplotlib->roboflow) (23.2)\n",
            "Requirement already satisfied: pyparsing>=2.3.1 in ./training/lib/python3.9/site-packages (from matplotlib->roboflow) (3.1.1)\n",
            "Requirement already satisfied: importlib-resources>=3.2.0 in ./training/lib/python3.9/site-packages (from matplotlib->roboflow) (6.1.1)\n",
            "Requirement already satisfied: charset-normalizer<4,>=2 in ./training/lib/python3.9/site-packages (from requests->roboflow) (3.3.2)\n",
            "Requirement already satisfied: defusedxml<0.8.0,>=0.7.1 in ./training/lib/python3.9/site-packages (from supervision->roboflow) (0.7.1)\n",
            "Requirement already satisfied: scipy<2.0.0,>=1.10.0 in ./training/lib/python3.9/site-packages (from supervision->roboflow) (1.12.0)\n",
            "Requirement already satisfied: zipp>=3.1.0 in ./training/lib/python3.9/site-packages (from importlib-resources>=3.2.0->matplotlib->roboflow) (3.17.0)\n"
          ]
        }
      ],
      "source": [
        "!pip install roboflow"
      ]
    },
    {
      "cell_type": "code",
      "execution_count": 24,
      "metadata": {},
      "outputs": [
        {
          "name": "stdout",
          "output_type": "stream",
          "text": [
            "Requirement already satisfied: ultralytics==8.0.196 in ./training/lib/python3.9/site-packages (8.0.196)\n",
            "Requirement already satisfied: matplotlib>=3.3.0 in ./training/lib/python3.9/site-packages (from ultralytics==8.0.196) (3.8.2)\n",
            "Requirement already satisfied: numpy>=1.22.2 in ./training/lib/python3.9/site-packages (from ultralytics==8.0.196) (1.26.3)\n",
            "Requirement already satisfied: opencv-python>=4.6.0 in ./training/lib/python3.9/site-packages (from ultralytics==8.0.196) (4.9.0.80)\n",
            "Requirement already satisfied: pillow>=7.1.2 in ./training/lib/python3.9/site-packages (from ultralytics==8.0.196) (10.2.0)\n",
            "Requirement already satisfied: pyyaml>=5.3.1 in ./training/lib/python3.9/site-packages (from ultralytics==8.0.196) (6.0.1)\n",
            "Requirement already satisfied: requests>=2.23.0 in ./training/lib/python3.9/site-packages (from ultralytics==8.0.196) (2.31.0)\n",
            "Requirement already satisfied: scipy>=1.4.1 in ./training/lib/python3.9/site-packages (from ultralytics==8.0.196) (1.12.0)\n",
            "Requirement already satisfied: torch>=1.8.0 in ./training/lib/python3.9/site-packages (from ultralytics==8.0.196) (2.1.2)\n",
            "Requirement already satisfied: torchvision>=0.9.0 in ./training/lib/python3.9/site-packages (from ultralytics==8.0.196) (0.16.2)\n",
            "Requirement already satisfied: tqdm>=4.64.0 in ./training/lib/python3.9/site-packages (from ultralytics==8.0.196) (4.66.1)\n",
            "Requirement already satisfied: pandas>=1.1.4 in ./training/lib/python3.9/site-packages (from ultralytics==8.0.196) (2.2.0)\n",
            "Requirement already satisfied: seaborn>=0.11.0 in ./training/lib/python3.9/site-packages (from ultralytics==8.0.196) (0.13.2)\n",
            "Requirement already satisfied: psutil in ./training/lib/python3.9/site-packages (from ultralytics==8.0.196) (5.9.8)\n",
            "Requirement already satisfied: py-cpuinfo in ./training/lib/python3.9/site-packages (from ultralytics==8.0.196) (9.0.0)\n",
            "Requirement already satisfied: thop>=0.1.1 in ./training/lib/python3.9/site-packages (from ultralytics==8.0.196) (0.1.1.post2209072238)\n",
            "Requirement already satisfied: contourpy>=1.0.1 in ./training/lib/python3.9/site-packages (from matplotlib>=3.3.0->ultralytics==8.0.196) (1.2.0)\n",
            "Requirement already satisfied: cycler>=0.10 in ./training/lib/python3.9/site-packages (from matplotlib>=3.3.0->ultralytics==8.0.196) (0.10.0)\n",
            "Requirement already satisfied: fonttools>=4.22.0 in ./training/lib/python3.9/site-packages (from matplotlib>=3.3.0->ultralytics==8.0.196) (4.47.2)\n",
            "Requirement already satisfied: kiwisolver>=1.3.1 in ./training/lib/python3.9/site-packages (from matplotlib>=3.3.0->ultralytics==8.0.196) (1.4.5)\n",
            "Requirement already satisfied: packaging>=20.0 in ./training/lib/python3.9/site-packages (from matplotlib>=3.3.0->ultralytics==8.0.196) (23.2)\n",
            "Requirement already satisfied: pyparsing>=2.3.1 in ./training/lib/python3.9/site-packages (from matplotlib>=3.3.0->ultralytics==8.0.196) (3.1.1)\n",
            "Requirement already satisfied: python-dateutil>=2.7 in ./training/lib/python3.9/site-packages (from matplotlib>=3.3.0->ultralytics==8.0.196) (2.8.2)\n",
            "Requirement already satisfied: importlib-resources>=3.2.0 in ./training/lib/python3.9/site-packages (from matplotlib>=3.3.0->ultralytics==8.0.196) (6.1.1)\n",
            "Requirement already satisfied: pytz>=2020.1 in ./training/lib/python3.9/site-packages (from pandas>=1.1.4->ultralytics==8.0.196) (2023.3.post1)\n",
            "Requirement already satisfied: tzdata>=2022.7 in ./training/lib/python3.9/site-packages (from pandas>=1.1.4->ultralytics==8.0.196) (2023.4)\n",
            "Requirement already satisfied: charset-normalizer<4,>=2 in ./training/lib/python3.9/site-packages (from requests>=2.23.0->ultralytics==8.0.196) (3.3.2)\n",
            "Requirement already satisfied: idna<4,>=2.5 in ./training/lib/python3.9/site-packages (from requests>=2.23.0->ultralytics==8.0.196) (2.10)\n",
            "Requirement already satisfied: urllib3<3,>=1.21.1 in ./training/lib/python3.9/site-packages (from requests>=2.23.0->ultralytics==8.0.196) (2.1.0)\n",
            "Requirement already satisfied: certifi>=2017.4.17 in ./training/lib/python3.9/site-packages (from requests>=2.23.0->ultralytics==8.0.196) (2023.7.22)\n",
            "Requirement already satisfied: filelock in ./training/lib/python3.9/site-packages (from torch>=1.8.0->ultralytics==8.0.196) (3.13.1)\n",
            "Requirement already satisfied: typing-extensions in ./training/lib/python3.9/site-packages (from torch>=1.8.0->ultralytics==8.0.196) (4.9.0)\n",
            "Requirement already satisfied: sympy in ./training/lib/python3.9/site-packages (from torch>=1.8.0->ultralytics==8.0.196) (1.12)\n",
            "Requirement already satisfied: networkx in ./training/lib/python3.9/site-packages (from torch>=1.8.0->ultralytics==8.0.196) (3.2.1)\n",
            "Requirement already satisfied: jinja2 in ./training/lib/python3.9/site-packages (from torch>=1.8.0->ultralytics==8.0.196) (3.1.3)\n",
            "Requirement already satisfied: fsspec in ./training/lib/python3.9/site-packages (from torch>=1.8.0->ultralytics==8.0.196) (2023.12.2)\n",
            "Requirement already satisfied: six in ./training/lib/python3.9/site-packages (from cycler>=0.10->matplotlib>=3.3.0->ultralytics==8.0.196) (1.16.0)\n",
            "Requirement already satisfied: zipp>=3.1.0 in ./training/lib/python3.9/site-packages (from importlib-resources>=3.2.0->matplotlib>=3.3.0->ultralytics==8.0.196) (3.17.0)\n",
            "Requirement already satisfied: MarkupSafe>=2.0 in ./training/lib/python3.9/site-packages (from jinja2->torch>=1.8.0->ultralytics==8.0.196) (2.1.4)\n",
            "Requirement already satisfied: mpmath>=0.19 in ./training/lib/python3.9/site-packages (from sympy->torch>=1.8.0->ultralytics==8.0.196) (1.3.0)\n"
          ]
        }
      ],
      "source": [
        "!python3 -m pip install ultralytics==8.0.196"
      ]
    },
    {
      "cell_type": "code",
      "execution_count": 25,
      "metadata": {},
      "outputs": [
        {
          "name": "stdout",
          "output_type": "stream",
          "text": [
            "loading Roboflow workspace...\n",
            "loading Roboflow project...\n"
          ]
        }
      ],
      "source": [
        "from roboflow import Roboflow\n",
        "\n",
        "rf = Roboflow(api_key=\"4HVcvLNI3ZvJzGfLlZRs\")\n",
        "project = rf.workspace(\"test-dqo8y\").project(\"forest-trees\")\n",
        "dataset = project.version(10).download(\"yolov8\",\"./datasets/forest-trees\")"
      ]
    },
    {
      "cell_type": "code",
      "execution_count": 26,
      "metadata": {},
      "outputs": [],
      "source": [
        "from ultralytics import YOLO"
      ]
    },
    {
      "cell_type": "code",
      "execution_count": 162,
      "metadata": {},
      "outputs": [],
      "source": [
        "model = YOLO(\"yolov8n.pt\")"
      ]
    },
    {
      "cell_type": "code",
      "execution_count": 42,
      "metadata": {},
      "outputs": [
        {
          "name": "stderr",
          "output_type": "stream",
          "text": [
            "New https://pypi.org/project/ultralytics/8.1.6 available 😃 Update with 'pip install -U ultralytics'\n",
            "Ultralytics YOLOv8.0.196 🚀 Python-3.9.6 torch-2.1.2 CPU (Apple M2)\n",
            "\u001b[34m\u001b[1mengine/trainer: \u001b[0mtask=detect, mode=train, model=yolov8n.pt, data=../datasets/data.yaml, epochs=10, patience=50, batch=16, imgsz=640, save=True, save_period=-1, cache=False, device=None, workers=8, project=None, name=None, exist_ok=False, pretrained=True, optimizer=auto, verbose=True, seed=0, deterministic=True, single_cls=False, rect=False, cos_lr=False, close_mosaic=10, resume=False, amp=True, fraction=1.0, profile=False, freeze=None, overlap_mask=True, mask_ratio=4, dropout=0.0, val=True, split=val, save_json=False, save_hybrid=False, conf=None, iou=0.7, max_det=300, half=False, dnn=False, plots=True, source=None, show=False, save_txt=False, save_conf=False, save_crop=False, show_labels=True, show_conf=True, vid_stride=1, stream_buffer=False, line_width=None, visualize=False, augment=False, agnostic_nms=False, classes=None, retina_masks=False, boxes=True, format=torchscript, keras=False, optimize=False, int8=False, dynamic=False, simplify=False, opset=None, workspace=4, nms=False, lr0=0.01, lrf=0.01, momentum=0.937, weight_decay=0.0005, warmup_epochs=3.0, warmup_momentum=0.8, warmup_bias_lr=0.1, box=7.5, cls=0.5, dfl=1.5, pose=12.0, kobj=1.0, label_smoothing=0.0, nbs=64, hsv_h=0.015, hsv_s=0.7, hsv_v=0.4, degrees=0.0, translate=0.1, scale=0.5, shear=0.0, perspective=0.0, flipud=0.0, fliplr=0.5, mosaic=1.0, mixup=0.0, copy_paste=0.0, cfg=None, tracker=botsort.yaml, save_dir=/Users/timofeyobraztsov/Desktop/projects/geoflare_model/runs/detect/train10\n",
            "\n",
            "                   from  n    params  module                                       arguments                     \n",
            "  0                  -1  1       464  ultralytics.nn.modules.conv.Conv             [3, 16, 3, 2]                 \n",
            "  1                  -1  1      4672  ultralytics.nn.modules.conv.Conv             [16, 32, 3, 2]                \n",
            "  2                  -1  1      7360  ultralytics.nn.modules.block.C2f             [32, 32, 1, True]             \n",
            "  3                  -1  1     18560  ultralytics.nn.modules.conv.Conv             [32, 64, 3, 2]                \n",
            "  4                  -1  2     49664  ultralytics.nn.modules.block.C2f             [64, 64, 2, True]             \n",
            "  5                  -1  1     73984  ultralytics.nn.modules.conv.Conv             [64, 128, 3, 2]               \n",
            "  6                  -1  2    197632  ultralytics.nn.modules.block.C2f             [128, 128, 2, True]           \n",
            "  7                  -1  1    295424  ultralytics.nn.modules.conv.Conv             [128, 256, 3, 2]              \n",
            "  8                  -1  1    460288  ultralytics.nn.modules.block.C2f             [256, 256, 1, True]           \n",
            "  9                  -1  1    164608  ultralytics.nn.modules.block.SPPF            [256, 256, 5]                 \n",
            " 10                  -1  1         0  torch.nn.modules.upsampling.Upsample         [None, 2, 'nearest']          \n",
            " 11             [-1, 6]  1         0  ultralytics.nn.modules.conv.Concat           [1]                           \n",
            " 12                  -1  1    148224  ultralytics.nn.modules.block.C2f             [384, 128, 1]                 \n",
            " 13                  -1  1         0  torch.nn.modules.upsampling.Upsample         [None, 2, 'nearest']          \n",
            " 14             [-1, 4]  1         0  ultralytics.nn.modules.conv.Concat           [1]                           \n",
            " 15                  -1  1     37248  ultralytics.nn.modules.block.C2f             [192, 64, 1]                  \n",
            " 16                  -1  1     36992  ultralytics.nn.modules.conv.Conv             [64, 64, 3, 2]                \n",
            " 17            [-1, 12]  1         0  ultralytics.nn.modules.conv.Concat           [1]                           \n",
            " 18                  -1  1    123648  ultralytics.nn.modules.block.C2f             [192, 128, 1]                 \n",
            " 19                  -1  1    147712  ultralytics.nn.modules.conv.Conv             [128, 128, 3, 2]              \n",
            " 20             [-1, 9]  1         0  ultralytics.nn.modules.conv.Concat           [1]                           \n",
            " 21                  -1  1    493056  ultralytics.nn.modules.block.C2f             [384, 256, 1]                 \n",
            " 22        [15, 18, 21]  1    751507  ultralytics.nn.modules.head.Detect           [1, [64, 128, 256]]           \n",
            "Model summary: 225 layers, 3011043 parameters, 3011027 gradients, 8.2 GFLOPs\n",
            "\n",
            "Transferred 355/355 items from pretrained weights\n",
            "Freezing layer 'model.22.dfl.conv.weight'\n",
            "\u001b[34m\u001b[1mtrain: \u001b[0mScanning /Users/timofeyobraztsov/Desktop/projects/datasets/train/labels.cache... 2528 images, 547 backgrounds, 0 corrupt: 100%|██████████| 2528/2528 [00:00<?, ?it/s]\n",
            "\u001b[34m\u001b[1mtrain: \u001b[0mWARNING ⚠️ /Users/timofeyobraztsov/Desktop/projects/datasets/train/images/83688f0d-5848-48fc-8284-692532aec0ec_jpg.rf.cd4b738408e536b713e5d33749fb4cf8.jpg: 2 duplicate labels removed\n",
            "\u001b[34m\u001b[1mval: \u001b[0mScanning /Users/timofeyobraztsov/Desktop/projects/datasets/valid/labels.cache... 495 images, 1 backgrounds, 0 corrupt: 100%|██████████| 495/495 [00:00<?, ?it/s]\n",
            "Plotting labels to /Users/timofeyobraztsov/Desktop/projects/geoflare_model/runs/detect/train10/labels.jpg... \n",
            "\u001b[34m\u001b[1moptimizer:\u001b[0m 'optimizer=auto' found, ignoring 'lr0=0.01' and 'momentum=0.937' and determining best 'optimizer', 'lr0' and 'momentum' automatically... \n",
            "\u001b[34m\u001b[1moptimizer:\u001b[0m AdamW(lr=0.002, momentum=0.9) with parameter groups 57 weight(decay=0.0), 64 weight(decay=0.0005), 63 bias(decay=0.0)\n",
            "Image sizes 640 train, 640 val\n",
            "Using 0 dataloader workers\n",
            "Logging results to \u001b[1m/Users/timofeyobraztsov/Desktop/projects/geoflare_model/runs/detect/train10\u001b[0m\n",
            "Starting training for 10 epochs...\n",
            "Closing dataloader mosaic\n",
            "\n",
            "      Epoch    GPU_mem   box_loss   cls_loss   dfl_loss  Instances       Size\n",
            "       1/10         0G      1.525      1.122      1.295        565        640: 100%|██████████| 158/158 [17:18<00:00,  6.57s/it]\n",
            "                 Class     Images  Instances      Box(P          R      mAP50  mAP50-95): 100%|██████████| 16/16 [01:42<00:00,  6.39s/it]\n",
            "                   all        495      28144      0.764      0.738      0.805      0.471\n",
            "\n",
            "      Epoch    GPU_mem   box_loss   cls_loss   dfl_loss  Instances       Size\n",
            "       2/10         0G      1.533      1.095      1.302        790        640: 100%|██████████| 158/158 [17:38<00:00,  6.70s/it]\n",
            "                 Class     Images  Instances      Box(P          R      mAP50  mAP50-95): 100%|██████████| 16/16 [01:44<00:00,  6.51s/it]\n",
            "                   all        495      28144       0.57      0.604       0.59      0.299\n",
            "\n",
            "      Epoch    GPU_mem   box_loss   cls_loss   dfl_loss  Instances       Size\n",
            "       3/10         0G      1.513      1.067      1.293        820        640: 100%|██████████| 158/158 [17:56<00:00,  6.81s/it]\n",
            "                 Class     Images  Instances      Box(P          R      mAP50  mAP50-95): 100%|██████████| 16/16 [01:39<00:00,  6.22s/it]\n",
            "                   all        495      28144       0.78      0.747      0.822      0.474\n",
            "\n",
            "      Epoch    GPU_mem   box_loss   cls_loss   dfl_loss  Instances       Size\n",
            "       4/10         0G      1.488      1.013      1.284        685        640: 100%|██████████| 158/158 [17:33<00:00,  6.67s/it]\n",
            "                 Class     Images  Instances      Box(P          R      mAP50  mAP50-95): 100%|██████████| 16/16 [01:39<00:00,  6.23s/it]\n",
            "                   all        495      28144      0.798       0.77      0.851      0.512\n",
            "\n",
            "      Epoch    GPU_mem   box_loss   cls_loss   dfl_loss  Instances       Size\n",
            "       5/10         0G      1.473     0.9902      1.273        857        640: 100%|██████████| 158/158 [19:16<00:00,  7.32s/it]\n",
            "                 Class     Images  Instances      Box(P          R      mAP50  mAP50-95): 100%|██████████| 16/16 [01:48<00:00,  6.76s/it]\n",
            "                   all        495      28144      0.788      0.756      0.831      0.484\n",
            "\n",
            "      Epoch    GPU_mem   box_loss   cls_loss   dfl_loss  Instances       Size\n",
            "       6/10         0G      1.454     0.9674      1.259        554        640: 100%|██████████| 158/158 [19:41<00:00,  7.48s/it]\n",
            "                 Class     Images  Instances      Box(P          R      mAP50  mAP50-95): 100%|██████████| 16/16 [01:58<00:00,  7.43s/it]\n",
            "                   all        495      28144      0.777      0.785      0.845      0.499\n",
            "\n",
            "      Epoch    GPU_mem   box_loss   cls_loss   dfl_loss  Instances       Size\n",
            "       7/10         0G      1.433     0.9299      1.247        630        640: 100%|██████████| 158/158 [19:51<00:00,  7.54s/it]\n",
            "                 Class     Images  Instances      Box(P          R      mAP50  mAP50-95): 100%|██████████| 16/16 [01:42<00:00,  6.40s/it]\n",
            "                   all        495      28144      0.788      0.779      0.849      0.515\n",
            "\n",
            "      Epoch    GPU_mem   box_loss   cls_loss   dfl_loss  Instances       Size\n",
            "       8/10         0G      1.408     0.8902      1.232        460        640: 100%|██████████| 158/158 [18:37<00:00,  7.07s/it]\n",
            "                 Class     Images  Instances      Box(P          R      mAP50  mAP50-95): 100%|██████████| 16/16 [01:43<00:00,  6.44s/it]\n",
            "                   all        495      28144      0.816      0.815       0.88      0.536\n",
            "\n",
            "      Epoch    GPU_mem   box_loss   cls_loss   dfl_loss  Instances       Size\n",
            "       9/10         0G      1.389     0.8663      1.225        663        640: 100%|██████████| 158/158 [18:17<00:00,  6.95s/it]\n",
            "                 Class     Images  Instances      Box(P          R      mAP50  mAP50-95): 100%|██████████| 16/16 [02:51<00:00, 10.72s/it]\n",
            "                   all        495      28144      0.808      0.817      0.879      0.539\n",
            "\n",
            "      Epoch    GPU_mem   box_loss   cls_loss   dfl_loss  Instances       Size\n",
            "      10/10         0G      1.371     0.8333      1.209        640        640: 100%|██████████| 158/158 [21:55<00:00,  8.33s/it]\n",
            "                 Class     Images  Instances      Box(P          R      mAP50  mAP50-95): 100%|██████████| 16/16 [01:42<00:00,  6.40s/it]\n",
            "                   all        495      28144      0.818      0.825      0.889      0.554\n",
            "\n",
            "10 epochs completed in 3.445 hours.\n",
            "Optimizer stripped from /Users/timofeyobraztsov/Desktop/projects/geoflare_model/runs/detect/train10/weights/last.pt, 6.2MB\n",
            "Optimizer stripped from /Users/timofeyobraztsov/Desktop/projects/geoflare_model/runs/detect/train10/weights/best.pt, 6.2MB\n",
            "\n",
            "Validating /Users/timofeyobraztsov/Desktop/projects/geoflare_model/runs/detect/train10/weights/best.pt...\n",
            "Ultralytics YOLOv8.0.196 🚀 Python-3.9.6 torch-2.1.2 CPU (Apple M2)\n",
            "Model summary (fused): 168 layers, 3005843 parameters, 0 gradients, 8.1 GFLOPs\n",
            "                 Class     Images  Instances      Box(P          R      mAP50  mAP50-95): 100%|██████████| 16/16 [01:25<00:00,  5.36s/it]\n",
            "                   all        495      28144      0.817      0.825      0.889      0.554\n",
            "Speed: 1.0ms preprocess, 160.3ms inference, 0.0ms loss, 4.3ms postprocess per image\n",
            "Results saved to \u001b[1m/Users/timofeyobraztsov/Desktop/projects/geoflare_model/runs/detect/train10\u001b[0m\n"
          ]
        },
        {
          "data": {
            "text/plain": [
              "ultralytics.utils.metrics.DetMetrics object with attributes:\n",
              "\n",
              "ap_class_index: array([0])\n",
              "box: ultralytics.utils.metrics.Metric object\n",
              "confusion_matrix: <ultralytics.utils.metrics.ConfusionMatrix object at 0x2a7549bb0>\n",
              "fitness: 0.5875159794534048\n",
              "keys: ['metrics/precision(B)', 'metrics/recall(B)', 'metrics/mAP50(B)', 'metrics/mAP50-95(B)']\n",
              "maps: array([    0.55407])\n",
              "names: {0: 'Tree'}\n",
              "plot: True\n",
              "results_dict: {'metrics/precision(B)': 0.8174909658043016, 'metrics/recall(B)': 0.8250452452902354, 'metrics/mAP50(B)': 0.8885124807337441, 'metrics/mAP50-95(B)': 0.5540719237555893, 'fitness': 0.5875159794534048}\n",
              "save_dir: PosixPath('/Users/timofeyobraztsov/Desktop/projects/geoflare_model/runs/detect/train10')\n",
              "speed: {'preprocess': 0.9835826026068794, 'inference': 160.27080217997232, 'loss': 6.64682099313447e-05, 'postprocess': 4.285010424527255}"
            ]
          },
          "execution_count": 42,
          "metadata": {},
          "output_type": "execute_result"
        }
      ],
      "source": [
        "model.train( epochs=10,data=\"./datasets/data.yaml\")"
      ]
    },
    {
      "cell_type": "code",
      "execution_count": 222,
      "metadata": {},
      "outputs": [],
      "source": [
        "from PIL import Image\n",
        "import numpy as np"
      ]
    },
    {
      "cell_type": "code",
      "execution_count": 207,
      "metadata": {},
      "outputs": [],
      "source": [
        "model = YOLO(\"best.pt\")"
      ]
    },
    {
      "cell_type": "code",
      "execution_count": 252,
      "metadata": {},
      "outputs": [],
      "source": [
        "img = Image.open(\"test3.png\")"
      ]
    },
    {
      "cell_type": "code",
      "execution_count": 253,
      "metadata": {},
      "outputs": [
        {
          "name": "stderr",
          "output_type": "stream",
          "text": [
            "\n",
            "0: 384x640 18 Trees, 85.1ms\n",
            "Speed: 7.6ms preprocess, 85.1ms inference, 0.9ms postprocess per image at shape (1, 3, 384, 640)\n"
          ]
        }
      ],
      "source": [
        "results = model(img)\n",
        "img = np.asarray(img)\n"
      ]
    },
    {
      "cell_type": "code",
      "execution_count": 254,
      "metadata": {},
      "outputs": [
        {
          "name": "stdout",
          "output_type": "stream",
          "text": [
            "Requirement already satisfied: opencv-python in ./training/lib/python3.9/site-packages (4.9.0.80)\n",
            "Requirement already satisfied: numpy>=1.21.0 in ./training/lib/python3.9/site-packages (from opencv-python) (1.26.3)\n"
          ]
        }
      ],
      "source": [
        "!pip install opencv-python\n",
        "import cv2"
      ]
    },
    {
      "cell_type": "code",
      "execution_count": 255,
      "metadata": {},
      "outputs": [
        {
          "name": "stdout",
          "output_type": "stream",
          "text": [
            "[     111.59      252.99      230.49      346.86]\n",
            "[     224.82      368.67      315.12      448.71]\n",
            "[     50.461      544.74      183.51      643.59]\n",
            "[     71.579      334.74      186.15      438.06]\n",
            "[     19.161      425.44      178.65      548.86]\n",
            "[     217.96      544.33      324.46      644.62]\n",
            "[     412.75      443.54      578.18      643.36]\n",
            "[     1007.8      297.32      1086.2      356.21]\n",
            "[     298.42      472.35      414.07      574.11]\n",
            "[      454.7      247.22      536.35      329.85]\n",
            "[     261.95      158.79      350.57      234.85]\n",
            "[      524.8      253.25      640.12      340.73]\n",
            "[     218.32      545.01      367.09      645.85]\n",
            "[      189.9      322.41      269.06      393.61]\n",
            "[     712.72      269.67       828.9      359.98]\n",
            "[     833.45       303.1      921.87      373.03]\n",
            "[        857       169.6      928.33      237.03]\n",
            "[      731.4      284.62      829.25      356.02]\n"
          ]
        }
      ],
      "source": [
        "xyxys = []\n",
        "confidences = []\n",
        "classes = []\n",
        "\n",
        "for result in results:\n",
        "    boxes = result.boxes.cpu().numpy()\n",
        "    # for xyxy in xyxys:\n",
        "    #     cv2.rectangle(\n",
        "    #         np.asarray(img), (int(xyxy[0]), int(xyxy[1])), (int(xyxy[2]), int(xyxy[3])), (0, 255, 0), 2\n",
        "    #     )\n",
        "    xyxys.append(boxes.xyxy)\n",
        "    confidences.append(boxes.conf)\n",
        "    classes.append(boxes.cls)\n",
        "    im=None\n",
        "    for xyxy in xyxys[0]:\n",
        "        print(xyxy)\n",
        "        \n",
        "        rected_img = cv2.rectangle(\n",
        "           img,\n",
        "            (int(xyxy[0]), int(xyxy[1])),\n",
        "            (int(xyxy[2]), int(xyxy[3])),\n",
        "            (0, 255, 0),\n",
        "            3,\n",
        "        )\n",
        "        im_arr = cv2.cvtColor(rected_img, cv2.COLOR_RGBA2RGB)\n",
        "        im_arr\n",
        "        # convert back to Image object\n",
        "        im = Image.fromarray(im_arr)\n",
        "    im.show()"
      ]
    }
  ],
  "metadata": {
    "kernelspec": {
      "display_name": "Python 3",
      "language": "python",
      "name": "python3"
    },
    "language_info": {
      "codemirror_mode": {
        "name": "ipython",
        "version": 3
      },
      "file_extension": ".py",
      "mimetype": "text/x-python",
      "name": "python",
      "nbconvert_exporter": "python",
      "pygments_lexer": "ipython3",
      "version": "3.9.6"
    }
  },
  "nbformat": 4,
  "nbformat_minor": 2
}
