{
  "cells": [
    {
      "cell_type": "code",
      "execution_count": 23,
      "metadata": {},
      "outputs": [
        {
          "name": "stdout",
          "output_type": "stream",
          "text": [
            "Requirement already satisfied: roboflow in ./training/lib/python3.9/site-packages (1.1.17)\n",
            "Requirement already satisfied: certifi==2023.7.22 in ./training/lib/python3.9/site-packages (from roboflow) (2023.7.22)\n",
            "Requirement already satisfied: chardet==4.0.0 in ./training/lib/python3.9/site-packages (from roboflow) (4.0.0)\n",
            "Requirement already satisfied: cycler==0.10.0 in ./training/lib/python3.9/site-packages (from roboflow) (0.10.0)\n",
            "Requirement already satisfied: idna==2.10 in ./training/lib/python3.9/site-packages (from roboflow) (2.10)\n",
            "Requirement already satisfied: kiwisolver>=1.3.1 in ./training/lib/python3.9/site-packages (from roboflow) (1.4.5)\n",
            "Requirement already satisfied: matplotlib in ./training/lib/python3.9/site-packages (from roboflow) (3.8.2)\n",
            "Requirement already satisfied: numpy>=1.18.5 in ./training/lib/python3.9/site-packages (from roboflow) (1.26.3)\n",
            "Requirement already satisfied: opencv-python-headless==4.8.0.74 in ./training/lib/python3.9/site-packages (from roboflow) (4.8.0.74)\n",
            "Requirement already satisfied: Pillow>=7.1.2 in ./training/lib/python3.9/site-packages (from roboflow) (10.2.0)\n",
            "Requirement already satisfied: python-dateutil in ./training/lib/python3.9/site-packages (from roboflow) (2.8.2)\n",
            "Requirement already satisfied: python-dotenv in ./training/lib/python3.9/site-packages (from roboflow) (1.0.1)\n",
            "Requirement already satisfied: requests in ./training/lib/python3.9/site-packages (from roboflow) (2.31.0)\n",
            "Requirement already satisfied: six in ./training/lib/python3.9/site-packages (from roboflow) (1.16.0)\n",
            "Requirement already satisfied: supervision in ./training/lib/python3.9/site-packages (from roboflow) (0.18.0)\n",
            "Requirement already satisfied: urllib3>=1.26.6 in ./training/lib/python3.9/site-packages (from roboflow) (2.1.0)\n",
            "Requirement already satisfied: tqdm>=4.41.0 in ./training/lib/python3.9/site-packages (from roboflow) (4.66.1)\n",
            "Requirement already satisfied: PyYAML>=5.3.1 in ./training/lib/python3.9/site-packages (from roboflow) (6.0.1)\n",
            "Requirement already satisfied: requests-toolbelt in ./training/lib/python3.9/site-packages (from roboflow) (1.0.0)\n",
            "Requirement already satisfied: python-magic in ./training/lib/python3.9/site-packages (from roboflow) (0.4.27)\n",
            "Requirement already satisfied: contourpy>=1.0.1 in ./training/lib/python3.9/site-packages (from matplotlib->roboflow) (1.2.0)\n",
            "Requirement already satisfied: fonttools>=4.22.0 in ./training/lib/python3.9/site-packages (from matplotlib->roboflow) (4.47.2)\n",
            "Requirement already satisfied: packaging>=20.0 in ./training/lib/python3.9/site-packages (from matplotlib->roboflow) (23.2)\n",
            "Requirement already satisfied: pyparsing>=2.3.1 in ./training/lib/python3.9/site-packages (from matplotlib->roboflow) (3.1.1)\n",
            "Requirement already satisfied: importlib-resources>=3.2.0 in ./training/lib/python3.9/site-packages (from matplotlib->roboflow) (6.1.1)\n",
            "Requirement already satisfied: charset-normalizer<4,>=2 in ./training/lib/python3.9/site-packages (from requests->roboflow) (3.3.2)\n",
            "Requirement already satisfied: defusedxml<0.8.0,>=0.7.1 in ./training/lib/python3.9/site-packages (from supervision->roboflow) (0.7.1)\n",
            "Requirement already satisfied: scipy<2.0.0,>=1.10.0 in ./training/lib/python3.9/site-packages (from supervision->roboflow) (1.12.0)\n",
            "Requirement already satisfied: zipp>=3.1.0 in ./training/lib/python3.9/site-packages (from importlib-resources>=3.2.0->matplotlib->roboflow) (3.17.0)\n"
          ]
        }
      ],
      "source": [
        "!pip install roboflow"
      ]
    },
    {
      "cell_type": "code",
      "execution_count": 24,
      "metadata": {},
      "outputs": [
        {
          "name": "stdout",
          "output_type": "stream",
          "text": [
            "Requirement already satisfied: ultralytics==8.0.196 in ./training/lib/python3.9/site-packages (8.0.196)\n",
            "Requirement already satisfied: matplotlib>=3.3.0 in ./training/lib/python3.9/site-packages (from ultralytics==8.0.196) (3.8.2)\n",
            "Requirement already satisfied: numpy>=1.22.2 in ./training/lib/python3.9/site-packages (from ultralytics==8.0.196) (1.26.3)\n",
            "Requirement already satisfied: opencv-python>=4.6.0 in ./training/lib/python3.9/site-packages (from ultralytics==8.0.196) (4.9.0.80)\n",
            "Requirement already satisfied: pillow>=7.1.2 in ./training/lib/python3.9/site-packages (from ultralytics==8.0.196) (10.2.0)\n",
            "Requirement already satisfied: pyyaml>=5.3.1 in ./training/lib/python3.9/site-packages (from ultralytics==8.0.196) (6.0.1)\n",
            "Requirement already satisfied: requests>=2.23.0 in ./training/lib/python3.9/site-packages (from ultralytics==8.0.196) (2.31.0)\n",
            "Requirement already satisfied: scipy>=1.4.1 in ./training/lib/python3.9/site-packages (from ultralytics==8.0.196) (1.12.0)\n",
            "Requirement already satisfied: torch>=1.8.0 in ./training/lib/python3.9/site-packages (from ultralytics==8.0.196) (2.1.2)\n",
            "Requirement already satisfied: torchvision>=0.9.0 in ./training/lib/python3.9/site-packages (from ultralytics==8.0.196) (0.16.2)\n",
            "Requirement already satisfied: tqdm>=4.64.0 in ./training/lib/python3.9/site-packages (from ultralytics==8.0.196) (4.66.1)\n",
            "Requirement already satisfied: pandas>=1.1.4 in ./training/lib/python3.9/site-packages (from ultralytics==8.0.196) (2.2.0)\n",
            "Requirement already satisfied: seaborn>=0.11.0 in ./training/lib/python3.9/site-packages (from ultralytics==8.0.196) (0.13.2)\n",
            "Requirement already satisfied: psutil in ./training/lib/python3.9/site-packages (from ultralytics==8.0.196) (5.9.8)\n",
            "Requirement already satisfied: py-cpuinfo in ./training/lib/python3.9/site-packages (from ultralytics==8.0.196) (9.0.0)\n",
            "Requirement already satisfied: thop>=0.1.1 in ./training/lib/python3.9/site-packages (from ultralytics==8.0.196) (0.1.1.post2209072238)\n",
            "Requirement already satisfied: contourpy>=1.0.1 in ./training/lib/python3.9/site-packages (from matplotlib>=3.3.0->ultralytics==8.0.196) (1.2.0)\n",
            "Requirement already satisfied: cycler>=0.10 in ./training/lib/python3.9/site-packages (from matplotlib>=3.3.0->ultralytics==8.0.196) (0.10.0)\n",
            "Requirement already satisfied: fonttools>=4.22.0 in ./training/lib/python3.9/site-packages (from matplotlib>=3.3.0->ultralytics==8.0.196) (4.47.2)\n",
            "Requirement already satisfied: kiwisolver>=1.3.1 in ./training/lib/python3.9/site-packages (from matplotlib>=3.3.0->ultralytics==8.0.196) (1.4.5)\n",
            "Requirement already satisfied: packaging>=20.0 in ./training/lib/python3.9/site-packages (from matplotlib>=3.3.0->ultralytics==8.0.196) (23.2)\n",
            "Requirement already satisfied: pyparsing>=2.3.1 in ./training/lib/python3.9/site-packages (from matplotlib>=3.3.0->ultralytics==8.0.196) (3.1.1)\n",
            "Requirement already satisfied: python-dateutil>=2.7 in ./training/lib/python3.9/site-packages (from matplotlib>=3.3.0->ultralytics==8.0.196) (2.8.2)\n",
            "Requirement already satisfied: importlib-resources>=3.2.0 in ./training/lib/python3.9/site-packages (from matplotlib>=3.3.0->ultralytics==8.0.196) (6.1.1)\n",
            "Requirement already satisfied: pytz>=2020.1 in ./training/lib/python3.9/site-packages (from pandas>=1.1.4->ultralytics==8.0.196) (2023.3.post1)\n",
            "Requirement already satisfied: tzdata>=2022.7 in ./training/lib/python3.9/site-packages (from pandas>=1.1.4->ultralytics==8.0.196) (2023.4)\n",
            "Requirement already satisfied: charset-normalizer<4,>=2 in ./training/lib/python3.9/site-packages (from requests>=2.23.0->ultralytics==8.0.196) (3.3.2)\n",
            "Requirement already satisfied: idna<4,>=2.5 in ./training/lib/python3.9/site-packages (from requests>=2.23.0->ultralytics==8.0.196) (2.10)\n",
            "Requirement already satisfied: urllib3<3,>=1.21.1 in ./training/lib/python3.9/site-packages (from requests>=2.23.0->ultralytics==8.0.196) (2.1.0)\n",
            "Requirement already satisfied: certifi>=2017.4.17 in ./training/lib/python3.9/site-packages (from requests>=2.23.0->ultralytics==8.0.196) (2023.7.22)\n",
            "Requirement already satisfied: filelock in ./training/lib/python3.9/site-packages (from torch>=1.8.0->ultralytics==8.0.196) (3.13.1)\n",
            "Requirement already satisfied: typing-extensions in ./training/lib/python3.9/site-packages (from torch>=1.8.0->ultralytics==8.0.196) (4.9.0)\n",
            "Requirement already satisfied: sympy in ./training/lib/python3.9/site-packages (from torch>=1.8.0->ultralytics==8.0.196) (1.12)\n",
            "Requirement already satisfied: networkx in ./training/lib/python3.9/site-packages (from torch>=1.8.0->ultralytics==8.0.196) (3.2.1)\n",
            "Requirement already satisfied: jinja2 in ./training/lib/python3.9/site-packages (from torch>=1.8.0->ultralytics==8.0.196) (3.1.3)\n",
            "Requirement already satisfied: fsspec in ./training/lib/python3.9/site-packages (from torch>=1.8.0->ultralytics==8.0.196) (2023.12.2)\n",
            "Requirement already satisfied: six in ./training/lib/python3.9/site-packages (from cycler>=0.10->matplotlib>=3.3.0->ultralytics==8.0.196) (1.16.0)\n",
            "Requirement already satisfied: zipp>=3.1.0 in ./training/lib/python3.9/site-packages (from importlib-resources>=3.2.0->matplotlib>=3.3.0->ultralytics==8.0.196) (3.17.0)\n",
            "Requirement already satisfied: MarkupSafe>=2.0 in ./training/lib/python3.9/site-packages (from jinja2->torch>=1.8.0->ultralytics==8.0.196) (2.1.4)\n",
            "Requirement already satisfied: mpmath>=0.19 in ./training/lib/python3.9/site-packages (from sympy->torch>=1.8.0->ultralytics==8.0.196) (1.3.0)\n"
          ]
        }
      ],
      "source": [
        "!python3 -m pip install ultralytics==8.0.196"
      ]
    },
    {
      "cell_type": "code",
      "execution_count": 25,
      "metadata": {},
      "outputs": [
        {
          "name": "stdout",
          "output_type": "stream",
          "text": [
            "loading Roboflow workspace...\n",
            "loading Roboflow project...\n"
          ]
        }
      ],
      "source": [
        "from roboflow import Roboflow\n",
        "\n",
        "rf = Roboflow(api_key=\"4HVcvLNI3ZvJzGfLlZRs\")\n",
        "project = rf.workspace(\"test-dqo8y\").project(\"forest-trees\")\n",
        "dataset = project.version(10).download(\"yolov8\",\"../datasets\")"
      ]
    },
    {
      "cell_type": "code",
      "execution_count": 26,
      "metadata": {},
      "outputs": [],
      "source": [
        "from ultralytics import YOLO"
      ]
    },
    {
      "cell_type": "code",
      "execution_count": 35,
      "metadata": {},
      "outputs": [
        {
          "name": "stderr",
          "output_type": "stream",
          "text": [
            "Downloading https://github.com/ultralytics/assets/releases/download/v0.0.0/yolov8n.pt to 'yolov8n.pt'...\n",
            "100%|██████████| 6.23M/6.23M [00:00<00:00, 15.9MB/s]\n"
          ]
        }
      ],
      "source": [
        "model = YOLO(\"yolov8n.pt\")"
      ]
    },
    {
      "cell_type": "code",
      "execution_count": 41,
      "metadata": {},
      "outputs": [
        {
          "name": "stderr",
          "output_type": "stream",
          "text": [
            "New https://pypi.org/project/ultralytics/8.1.6 available 😃 Update with 'pip install -U ultralytics'\n",
            "Ultralytics YOLOv8.0.196 🚀 Python-3.9.6 torch-2.1.2 CPU (Apple M2)\n",
            "\u001b[34m\u001b[1mengine/trainer: \u001b[0mtask=detect, mode=train, model=yolov8n.pt, data=../datasets/data.yaml, epochs=15, patience=50, batch=16, imgsz=640, save=True, save_period=-1, cache=False, device=None, workers=8, project=None, name=None, exist_ok=False, pretrained=True, optimizer=auto, verbose=True, seed=0, deterministic=True, single_cls=False, rect=False, cos_lr=False, close_mosaic=10, resume=False, amp=True, fraction=1.0, profile=False, freeze=None, overlap_mask=True, mask_ratio=4, dropout=0.0, val=True, split=val, save_json=False, save_hybrid=False, conf=None, iou=0.7, max_det=300, half=False, dnn=False, plots=True, source=None, show=False, save_txt=False, save_conf=False, save_crop=False, show_labels=True, show_conf=True, vid_stride=1, stream_buffer=False, line_width=None, visualize=False, augment=False, agnostic_nms=False, classes=None, retina_masks=False, boxes=True, format=torchscript, keras=False, optimize=False, int8=False, dynamic=False, simplify=False, opset=None, workspace=4, nms=False, lr0=0.01, lrf=0.01, momentum=0.937, weight_decay=0.0005, warmup_epochs=3.0, warmup_momentum=0.8, warmup_bias_lr=0.1, box=7.5, cls=0.5, dfl=1.5, pose=12.0, kobj=1.0, label_smoothing=0.0, nbs=64, hsv_h=0.015, hsv_s=0.7, hsv_v=0.4, degrees=0.0, translate=0.1, scale=0.5, shear=0.0, perspective=0.0, flipud=0.0, fliplr=0.5, mosaic=1.0, mixup=0.0, copy_paste=0.0, cfg=None, tracker=botsort.yaml, save_dir=/Users/timofeyobraztsov/Desktop/projects/geoflare_model/runs/detect/train9\n",
            "\n",
            "                   from  n    params  module                                       arguments                     \n",
            "  0                  -1  1       464  ultralytics.nn.modules.conv.Conv             [3, 16, 3, 2]                 \n",
            "  1                  -1  1      4672  ultralytics.nn.modules.conv.Conv             [16, 32, 3, 2]                \n",
            "  2                  -1  1      7360  ultralytics.nn.modules.block.C2f             [32, 32, 1, True]             \n",
            "  3                  -1  1     18560  ultralytics.nn.modules.conv.Conv             [32, 64, 3, 2]                \n",
            "  4                  -1  2     49664  ultralytics.nn.modules.block.C2f             [64, 64, 2, True]             \n",
            "  5                  -1  1     73984  ultralytics.nn.modules.conv.Conv             [64, 128, 3, 2]               \n",
            "  6                  -1  2    197632  ultralytics.nn.modules.block.C2f             [128, 128, 2, True]           \n",
            "  7                  -1  1    295424  ultralytics.nn.modules.conv.Conv             [128, 256, 3, 2]              \n",
            "  8                  -1  1    460288  ultralytics.nn.modules.block.C2f             [256, 256, 1, True]           \n",
            "  9                  -1  1    164608  ultralytics.nn.modules.block.SPPF            [256, 256, 5]                 \n",
            " 10                  -1  1         0  torch.nn.modules.upsampling.Upsample         [None, 2, 'nearest']          \n",
            " 11             [-1, 6]  1         0  ultralytics.nn.modules.conv.Concat           [1]                           \n",
            " 12                  -1  1    148224  ultralytics.nn.modules.block.C2f             [384, 128, 1]                 \n",
            " 13                  -1  1         0  torch.nn.modules.upsampling.Upsample         [None, 2, 'nearest']          \n",
            " 14             [-1, 4]  1         0  ultralytics.nn.modules.conv.Concat           [1]                           \n",
            " 15                  -1  1     37248  ultralytics.nn.modules.block.C2f             [192, 64, 1]                  \n",
            " 16                  -1  1     36992  ultralytics.nn.modules.conv.Conv             [64, 64, 3, 2]                \n",
            " 17            [-1, 12]  1         0  ultralytics.nn.modules.conv.Concat           [1]                           \n",
            " 18                  -1  1    123648  ultralytics.nn.modules.block.C2f             [192, 128, 1]                 \n",
            " 19                  -1  1    147712  ultralytics.nn.modules.conv.Conv             [128, 128, 3, 2]              \n",
            " 20             [-1, 9]  1         0  ultralytics.nn.modules.conv.Concat           [1]                           \n",
            " 21                  -1  1    493056  ultralytics.nn.modules.block.C2f             [384, 256, 1]                 \n",
            " 22        [15, 18, 21]  1    751507  ultralytics.nn.modules.head.Detect           [1, [64, 128, 256]]           \n",
            "Model summary: 225 layers, 3011043 parameters, 3011027 gradients, 8.2 GFLOPs\n",
            "\n",
            "Transferred 355/355 items from pretrained weights\n",
            "Freezing layer 'model.22.dfl.conv.weight'\n",
            "\u001b[34m\u001b[1mtrain: \u001b[0mScanning /Users/timofeyobraztsov/Desktop/projects/datasets/train/labels.cache... 2528 images, 547 backgrounds, 0 corrupt: 100%|██████████| 2528/2528 [00:00<?, ?it/s]\n",
            "\u001b[34m\u001b[1mtrain: \u001b[0mWARNING ⚠️ /Users/timofeyobraztsov/Desktop/projects/datasets/train/images/83688f0d-5848-48fc-8284-692532aec0ec_jpg.rf.cd4b738408e536b713e5d33749fb4cf8.jpg: 2 duplicate labels removed\n",
            "\u001b[34m\u001b[1mval: \u001b[0mScanning /Users/timofeyobraztsov/Desktop/projects/datasets/valid/labels.cache... 495 images, 1 backgrounds, 0 corrupt: 100%|██████████| 495/495 [00:00<?, ?it/s]\n",
            "Plotting labels to /Users/timofeyobraztsov/Desktop/projects/geoflare_model/runs/detect/train9/labels.jpg... \n",
            "\u001b[34m\u001b[1moptimizer:\u001b[0m 'optimizer=auto' found, ignoring 'lr0=0.01' and 'momentum=0.937' and determining best 'optimizer', 'lr0' and 'momentum' automatically... \n",
            "\u001b[34m\u001b[1moptimizer:\u001b[0m AdamW(lr=0.002, momentum=0.9) with parameter groups 57 weight(decay=0.0), 64 weight(decay=0.0005), 63 bias(decay=0.0)\n",
            "Image sizes 640 train, 640 val\n",
            "Using 0 dataloader workers\n",
            "Logging results to \u001b[1m/Users/timofeyobraztsov/Desktop/projects/geoflare_model/runs/detect/train9\u001b[0m\n",
            "Starting training for 15 epochs...\n",
            "\n",
            "      Epoch    GPU_mem   box_loss   cls_loss   dfl_loss  Instances       Size\n",
            "  0%|          | 0/158 [00:00<?, ?it/s]\n"
          ]
        },
        {
          "ename": "KeyboardInterrupt",
          "evalue": "",
          "output_type": "error",
          "traceback": [
            "\u001b[0;31m---------------------------------------------------------------------------\u001b[0m",
            "\u001b[0;31mKeyboardInterrupt\u001b[0m                         Traceback (most recent call last)",
            "Cell \u001b[0;32mIn[41], line 1\u001b[0m\n\u001b[0;32m----> 1\u001b[0m \u001b[43mmodel\u001b[49m\u001b[38;5;241;43m.\u001b[39;49m\u001b[43mtrain\u001b[49m\u001b[43m(\u001b[49m\u001b[43m \u001b[49m\u001b[43mepochs\u001b[49m\u001b[38;5;241;43m=\u001b[39;49m\u001b[38;5;241;43m15\u001b[39;49m\u001b[43m,\u001b[49m\u001b[43mdata\u001b[49m\u001b[38;5;241;43m=\u001b[39;49m\u001b[38;5;124;43m\"\u001b[39;49m\u001b[38;5;124;43m../datasets/data.yaml\u001b[39;49m\u001b[38;5;124;43m\"\u001b[39;49m\u001b[43m)\u001b[49m\n",
            "File \u001b[0;32m~/Desktop/projects/geoflare_model/training/lib/python3.9/site-packages/ultralytics/engine/model.py:341\u001b[0m, in \u001b[0;36mModel.train\u001b[0;34m(self, trainer, **kwargs)\u001b[0m\n\u001b[1;32m    339\u001b[0m     \u001b[38;5;28mself\u001b[39m\u001b[38;5;241m.\u001b[39mmodel \u001b[38;5;241m=\u001b[39m \u001b[38;5;28mself\u001b[39m\u001b[38;5;241m.\u001b[39mtrainer\u001b[38;5;241m.\u001b[39mmodel\n\u001b[1;32m    340\u001b[0m \u001b[38;5;28mself\u001b[39m\u001b[38;5;241m.\u001b[39mtrainer\u001b[38;5;241m.\u001b[39mhub_session \u001b[38;5;241m=\u001b[39m \u001b[38;5;28mself\u001b[39m\u001b[38;5;241m.\u001b[39msession  \u001b[38;5;66;03m# attach optional HUB session\u001b[39;00m\n\u001b[0;32m--> 341\u001b[0m \u001b[38;5;28;43mself\u001b[39;49m\u001b[38;5;241;43m.\u001b[39;49m\u001b[43mtrainer\u001b[49m\u001b[38;5;241;43m.\u001b[39;49m\u001b[43mtrain\u001b[49m\u001b[43m(\u001b[49m\u001b[43m)\u001b[49m\n\u001b[1;32m    342\u001b[0m \u001b[38;5;66;03m# Update model and cfg after training\u001b[39;00m\n\u001b[1;32m    343\u001b[0m \u001b[38;5;28;01mif\u001b[39;00m RANK \u001b[38;5;129;01min\u001b[39;00m (\u001b[38;5;241m-\u001b[39m\u001b[38;5;241m1\u001b[39m, \u001b[38;5;241m0\u001b[39m):\n",
            "File \u001b[0;32m~/Desktop/projects/geoflare_model/training/lib/python3.9/site-packages/ultralytics/engine/trainer.py:191\u001b[0m, in \u001b[0;36mBaseTrainer.train\u001b[0;34m(self)\u001b[0m\n\u001b[1;32m    188\u001b[0m         ddp_cleanup(\u001b[38;5;28mself\u001b[39m, \u001b[38;5;28mstr\u001b[39m(file))\n\u001b[1;32m    190\u001b[0m \u001b[38;5;28;01melse\u001b[39;00m:\n\u001b[0;32m--> 191\u001b[0m     \u001b[38;5;28;43mself\u001b[39;49m\u001b[38;5;241;43m.\u001b[39;49m\u001b[43m_do_train\u001b[49m\u001b[43m(\u001b[49m\u001b[43mworld_size\u001b[49m\u001b[43m)\u001b[49m\n",
            "File \u001b[0;32m~/Desktop/projects/geoflare_model/training/lib/python3.9/site-packages/ultralytics/engine/trainer.py:325\u001b[0m, in \u001b[0;36mBaseTrainer._do_train\u001b[0;34m(self, world_size)\u001b[0m\n\u001b[1;32m    323\u001b[0m \u001b[38;5;28mself\u001b[39m\u001b[38;5;241m.\u001b[39mtloss \u001b[38;5;241m=\u001b[39m \u001b[38;5;28;01mNone\u001b[39;00m\n\u001b[1;32m    324\u001b[0m \u001b[38;5;28mself\u001b[39m\u001b[38;5;241m.\u001b[39moptimizer\u001b[38;5;241m.\u001b[39mzero_grad()\n\u001b[0;32m--> 325\u001b[0m \u001b[38;5;28;01mfor\u001b[39;00m i, batch \u001b[38;5;129;01min\u001b[39;00m pbar:\n\u001b[1;32m    326\u001b[0m     \u001b[38;5;28mself\u001b[39m\u001b[38;5;241m.\u001b[39mrun_callbacks(\u001b[38;5;124m'\u001b[39m\u001b[38;5;124mon_train_batch_start\u001b[39m\u001b[38;5;124m'\u001b[39m)\n\u001b[1;32m    327\u001b[0m     \u001b[38;5;66;03m# Warmup\u001b[39;00m\n",
            "File \u001b[0;32m~/Desktop/projects/geoflare_model/training/lib/python3.9/site-packages/tqdm/std.py:1182\u001b[0m, in \u001b[0;36mtqdm.__iter__\u001b[0;34m(self)\u001b[0m\n\u001b[1;32m   1179\u001b[0m time \u001b[38;5;241m=\u001b[39m \u001b[38;5;28mself\u001b[39m\u001b[38;5;241m.\u001b[39m_time\n\u001b[1;32m   1181\u001b[0m \u001b[38;5;28;01mtry\u001b[39;00m:\n\u001b[0;32m-> 1182\u001b[0m     \u001b[38;5;28;01mfor\u001b[39;00m obj \u001b[38;5;129;01min\u001b[39;00m iterable:\n\u001b[1;32m   1183\u001b[0m         \u001b[38;5;28;01myield\u001b[39;00m obj\n\u001b[1;32m   1184\u001b[0m         \u001b[38;5;66;03m# Update and possibly print the progressbar.\u001b[39;00m\n\u001b[1;32m   1185\u001b[0m         \u001b[38;5;66;03m# Note: does not call self.update(1) for speed optimisation.\u001b[39;00m\n",
            "File \u001b[0;32m~/Desktop/projects/geoflare_model/training/lib/python3.9/site-packages/ultralytics/data/build.py:42\u001b[0m, in \u001b[0;36mInfiniteDataLoader.__iter__\u001b[0;34m(self)\u001b[0m\n\u001b[1;32m     40\u001b[0m \u001b[38;5;250m\u001b[39m\u001b[38;5;124;03m\"\"\"Creates a sampler that repeats indefinitely.\"\"\"\u001b[39;00m\n\u001b[1;32m     41\u001b[0m \u001b[38;5;28;01mfor\u001b[39;00m _ \u001b[38;5;129;01min\u001b[39;00m \u001b[38;5;28mrange\u001b[39m(\u001b[38;5;28mlen\u001b[39m(\u001b[38;5;28mself\u001b[39m)):\n\u001b[0;32m---> 42\u001b[0m     \u001b[38;5;28;01myield\u001b[39;00m \u001b[38;5;28;43mnext\u001b[39;49m\u001b[43m(\u001b[49m\u001b[38;5;28;43mself\u001b[39;49m\u001b[38;5;241;43m.\u001b[39;49m\u001b[43miterator\u001b[49m\u001b[43m)\u001b[49m\n",
            "File \u001b[0;32m~/Desktop/projects/geoflare_model/training/lib/python3.9/site-packages/torch/utils/data/dataloader.py:630\u001b[0m, in \u001b[0;36m_BaseDataLoaderIter.__next__\u001b[0;34m(self)\u001b[0m\n\u001b[1;32m    627\u001b[0m \u001b[38;5;28;01mif\u001b[39;00m \u001b[38;5;28mself\u001b[39m\u001b[38;5;241m.\u001b[39m_sampler_iter \u001b[38;5;129;01mis\u001b[39;00m \u001b[38;5;28;01mNone\u001b[39;00m:\n\u001b[1;32m    628\u001b[0m     \u001b[38;5;66;03m# TODO(https://github.com/pytorch/pytorch/issues/76750)\u001b[39;00m\n\u001b[1;32m    629\u001b[0m     \u001b[38;5;28mself\u001b[39m\u001b[38;5;241m.\u001b[39m_reset()  \u001b[38;5;66;03m# type: ignore[call-arg]\u001b[39;00m\n\u001b[0;32m--> 630\u001b[0m data \u001b[38;5;241m=\u001b[39m \u001b[38;5;28;43mself\u001b[39;49m\u001b[38;5;241;43m.\u001b[39;49m\u001b[43m_next_data\u001b[49m\u001b[43m(\u001b[49m\u001b[43m)\u001b[49m\n\u001b[1;32m    631\u001b[0m \u001b[38;5;28mself\u001b[39m\u001b[38;5;241m.\u001b[39m_num_yielded \u001b[38;5;241m+\u001b[39m\u001b[38;5;241m=\u001b[39m \u001b[38;5;241m1\u001b[39m\n\u001b[1;32m    632\u001b[0m \u001b[38;5;28;01mif\u001b[39;00m \u001b[38;5;28mself\u001b[39m\u001b[38;5;241m.\u001b[39m_dataset_kind \u001b[38;5;241m==\u001b[39m _DatasetKind\u001b[38;5;241m.\u001b[39mIterable \u001b[38;5;129;01mand\u001b[39;00m \\\n\u001b[1;32m    633\u001b[0m         \u001b[38;5;28mself\u001b[39m\u001b[38;5;241m.\u001b[39m_IterableDataset_len_called \u001b[38;5;129;01mis\u001b[39;00m \u001b[38;5;129;01mnot\u001b[39;00m \u001b[38;5;28;01mNone\u001b[39;00m \u001b[38;5;129;01mand\u001b[39;00m \\\n\u001b[1;32m    634\u001b[0m         \u001b[38;5;28mself\u001b[39m\u001b[38;5;241m.\u001b[39m_num_yielded \u001b[38;5;241m>\u001b[39m \u001b[38;5;28mself\u001b[39m\u001b[38;5;241m.\u001b[39m_IterableDataset_len_called:\n",
            "File \u001b[0;32m~/Desktop/projects/geoflare_model/training/lib/python3.9/site-packages/torch/utils/data/dataloader.py:674\u001b[0m, in \u001b[0;36m_SingleProcessDataLoaderIter._next_data\u001b[0;34m(self)\u001b[0m\n\u001b[1;32m    672\u001b[0m \u001b[38;5;28;01mdef\u001b[39;00m \u001b[38;5;21m_next_data\u001b[39m(\u001b[38;5;28mself\u001b[39m):\n\u001b[1;32m    673\u001b[0m     index \u001b[38;5;241m=\u001b[39m \u001b[38;5;28mself\u001b[39m\u001b[38;5;241m.\u001b[39m_next_index()  \u001b[38;5;66;03m# may raise StopIteration\u001b[39;00m\n\u001b[0;32m--> 674\u001b[0m     data \u001b[38;5;241m=\u001b[39m \u001b[38;5;28;43mself\u001b[39;49m\u001b[38;5;241;43m.\u001b[39;49m\u001b[43m_dataset_fetcher\u001b[49m\u001b[38;5;241;43m.\u001b[39;49m\u001b[43mfetch\u001b[49m\u001b[43m(\u001b[49m\u001b[43mindex\u001b[49m\u001b[43m)\u001b[49m  \u001b[38;5;66;03m# may raise StopIteration\u001b[39;00m\n\u001b[1;32m    675\u001b[0m     \u001b[38;5;28;01mif\u001b[39;00m \u001b[38;5;28mself\u001b[39m\u001b[38;5;241m.\u001b[39m_pin_memory:\n\u001b[1;32m    676\u001b[0m         data \u001b[38;5;241m=\u001b[39m _utils\u001b[38;5;241m.\u001b[39mpin_memory\u001b[38;5;241m.\u001b[39mpin_memory(data, \u001b[38;5;28mself\u001b[39m\u001b[38;5;241m.\u001b[39m_pin_memory_device)\n",
            "File \u001b[0;32m~/Desktop/projects/geoflare_model/training/lib/python3.9/site-packages/torch/utils/data/_utils/fetch.py:54\u001b[0m, in \u001b[0;36m_MapDatasetFetcher.fetch\u001b[0;34m(self, possibly_batched_index)\u001b[0m\n\u001b[1;32m     52\u001b[0m \u001b[38;5;28;01melse\u001b[39;00m:\n\u001b[1;32m     53\u001b[0m     data \u001b[38;5;241m=\u001b[39m \u001b[38;5;28mself\u001b[39m\u001b[38;5;241m.\u001b[39mdataset[possibly_batched_index]\n\u001b[0;32m---> 54\u001b[0m \u001b[38;5;28;01mreturn\u001b[39;00m \u001b[38;5;28;43mself\u001b[39;49m\u001b[38;5;241;43m.\u001b[39;49m\u001b[43mcollate_fn\u001b[49m\u001b[43m(\u001b[49m\u001b[43mdata\u001b[49m\u001b[43m)\u001b[49m\n",
            "File \u001b[0;32m~/Desktop/projects/geoflare_model/training/lib/python3.9/site-packages/ultralytics/data/dataset.py:183\u001b[0m, in \u001b[0;36mYOLODataset.collate_fn\u001b[0;34m(batch)\u001b[0m\n\u001b[1;32m    181\u001b[0m value \u001b[38;5;241m=\u001b[39m values[i]\n\u001b[1;32m    182\u001b[0m \u001b[38;5;28;01mif\u001b[39;00m k \u001b[38;5;241m==\u001b[39m \u001b[38;5;124m'\u001b[39m\u001b[38;5;124mimg\u001b[39m\u001b[38;5;124m'\u001b[39m:\n\u001b[0;32m--> 183\u001b[0m     value \u001b[38;5;241m=\u001b[39m \u001b[43mtorch\u001b[49m\u001b[38;5;241;43m.\u001b[39;49m\u001b[43mstack\u001b[49m\u001b[43m(\u001b[49m\u001b[43mvalue\u001b[49m\u001b[43m,\u001b[49m\u001b[43m \u001b[49m\u001b[38;5;241;43m0\u001b[39;49m\u001b[43m)\u001b[49m\n\u001b[1;32m    184\u001b[0m \u001b[38;5;28;01mif\u001b[39;00m k \u001b[38;5;129;01min\u001b[39;00m [\u001b[38;5;124m'\u001b[39m\u001b[38;5;124mmasks\u001b[39m\u001b[38;5;124m'\u001b[39m, \u001b[38;5;124m'\u001b[39m\u001b[38;5;124mkeypoints\u001b[39m\u001b[38;5;124m'\u001b[39m, \u001b[38;5;124m'\u001b[39m\u001b[38;5;124mbboxes\u001b[39m\u001b[38;5;124m'\u001b[39m, \u001b[38;5;124m'\u001b[39m\u001b[38;5;124mcls\u001b[39m\u001b[38;5;124m'\u001b[39m]:\n\u001b[1;32m    185\u001b[0m     value \u001b[38;5;241m=\u001b[39m torch\u001b[38;5;241m.\u001b[39mcat(value, \u001b[38;5;241m0\u001b[39m)\n",
            "\u001b[0;31mKeyboardInterrupt\u001b[0m: "
          ]
        }
      ],
      "source": [
        "model.train( epochs=10,data=\"../datasets/data.yaml\")"
      ]
    },
    {
      "cell_type": "code",
      "execution_count": null,
      "metadata": {},
      "outputs": [
        {
          "name": "stderr",
          "output_type": "stream",
          "text": [
            "\n",
            "image 1/1 /Users/timofeyobraztsov/Desktop/projects/geoflare_model/test.jpg: 416x416 2 broccolis, 245.7ms\n",
            "Speed: 3.9ms preprocess, 245.7ms inference, 0.4ms postprocess per image at shape (1, 3, 416, 416)\n"
          ]
        },
        {
          "ename": "AttributeError",
          "evalue": "'list' object has no attribute 'boxes'",
          "output_type": "error",
          "traceback": [
            "\u001b[0;31m---------------------------------------------------------------------------\u001b[0m",
            "\u001b[0;31mAttributeError\u001b[0m                            Traceback (most recent call last)",
            "Cell \u001b[0;32mIn[19], line 4\u001b[0m\n\u001b[1;32m      2\u001b[0m result \u001b[38;5;241m=\u001b[39m results[\u001b[38;5;241m0\u001b[39m]\n\u001b[1;32m      3\u001b[0m \u001b[38;5;28mlen\u001b[39m(result\u001b[38;5;241m.\u001b[39mboxes)\n\u001b[0;32m----> 4\u001b[0m \u001b[43mresults\u001b[49m\u001b[38;5;241;43m.\u001b[39;49m\u001b[43mboxes\u001b[49m\n",
            "\u001b[0;31mAttributeError\u001b[0m: 'list' object has no attribute 'boxes'"
          ]
        }
      ],
      "source": [
        "results = model.predict(\"test.jpg\")\n",
        "result = results[0]\n",
        "len(result.boxes)\n"
      ]
    },
    {
      "cell_type": "code",
      "execution_count": null,
      "metadata": {},
      "outputs": [
        {
          "name": "stdout",
          "output_type": "stream",
          "text": [
            "Object type: 50.0\n",
            "Coordinates: [17.158363342285156, 3.5591213703155518, 159.66827392578125, 149.8198699951172]\n",
            "Probability: 0.8078086972236633\n"
          ]
        }
      ],
      "source": [
        "box = result.boxes[0]\n",
        "cords = box.xyxy[0].tolist()\n",
        "class_id = box.cls[0].item()\n",
        "conf = box.conf[0].item()\n",
        "print(\"Object type:\", class_id)\n",
        "print(\"Coordinates:\", cords)\n",
        "print(\"Probability:\", conf)"
      ]
    }
  ],
  "metadata": {
    "kernelspec": {
      "display_name": "Python 3",
      "language": "python",
      "name": "python3"
    },
    "language_info": {
      "codemirror_mode": {
        "name": "ipython",
        "version": 3
      },
      "file_extension": ".py",
      "mimetype": "text/x-python",
      "name": "python",
      "nbconvert_exporter": "python",
      "pygments_lexer": "ipython3",
      "version": "3.9.6"
    }
  },
  "nbformat": 4,
  "nbformat_minor": 2
}
